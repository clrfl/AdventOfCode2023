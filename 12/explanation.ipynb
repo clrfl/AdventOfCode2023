{
 "cells": [
  {
   "cell_type": "markdown",
   "source": [
    "In this notebook I'm going to show an example illustrating my solution concept for Advent Of Code 2023 day 12.\n",
    "For this purpose I will consider an input file of only one line:\n",
    "\n",
    "`.??..?##? 1,3`\n",
    "\n",
    "this example should result in a number of 4 different configurations of damaged springs in groups 1,3:\n",
    "\n",
    "`.#...###.`\n",
    "`.#....###`\n",
    "`..#..###.`\n",
    "`..#...###`\n",
    "\n",
    "If you are unfamiliar with the concept of DFA / NFA (deterministic / nondeterministic finite automata), please look it up on YouTube now, as I'm certain there are many videos which are explaining it better than I ever could.\n",
    "\n",
    "Starting off with our single input line now, we can see that we want to read one group of 1 spring `#` and one group of 3 springs `###`, separated by one or more dots, and possibly preceded and succeeded by an arbitrary number of dots.\n",
    "\n",
    "If we draw this input limitation as an NFA, which can accept exactly these strings, it looks like this:\n",
    "\n",
    "<br><img src=\"explanation.png\" width=\"1200\"><br>\n",
    "\n",
    "This automaton has two types of states, dot-states and `#`-states.\n",
    "\n",
    "As you can see this automaton takes an arbitrary amount of dots in each dot state (thats why the self referring loop), or it transitions into a dot state when succeeded by one and reading a dot, and a `#` char will always lead to advancing into a corresponding #-state. `?` however will enable any possible transition that the current state has anyways.\n",
    "\n",
    "In code I created this automaton from the input numbers:"
   ],
   "metadata": {
    "collapsed": false
   },
   "id": "6f367a48aac2fe73"
  },
  {
   "cell_type": "code",
   "execution_count": 1,
   "outputs": [
    {
     "name": "stdout",
     "output_type": "stream",
     "text": [
      "['.', '#', '.', '#', '#', '#', '.']\n"
     ]
    }
   ],
   "source": [
    "numbers = [\"1\",\"3\"] # example\n",
    "\n",
    "states = \".\"\n",
    "for nr in numbers:\n",
    "    for i in range(int(nr)):\n",
    "        states += \"#\"\n",
    "    states += \".\"\n",
    "    \n",
    "print([char for char in states])"
   ],
   "metadata": {
    "collapsed": false,
    "ExecuteTime": {
     "end_time": "2023-12-15T14:00:21.463001700Z",
     "start_time": "2023-12-15T14:00:21.386457900Z"
    }
   },
   "id": "c97f9c691d200844"
  },
  {
   "cell_type": "markdown",
   "source": [
    "We start off in the first (starting) dot-state, which is why this state has no transition conditions leading to it. Also we're in this state only once, so our current state dictionary looks like this:"
   ],
   "metadata": {
    "collapsed": false
   },
   "id": "b00db236aea1b285"
  },
  {
   "cell_type": "code",
   "execution_count": 2,
   "outputs": [],
   "source": [
    "states_dict = {0: 1}"
   ],
   "metadata": {
    "collapsed": false,
    "ExecuteTime": {
     "end_time": "2023-12-15T14:00:21.463001700Z",
     "start_time": "2023-12-15T14:00:21.431761700Z"
    }
   },
   "id": "c2b101cb8b9edf0b"
  },
  {
   "cell_type": "markdown",
   "source": [
    "If you are wondering why we have a dictionary instead of just one state: As this automaton is non-deterministic (in many cases there are two different states which we can transition into at the same time), we're using something similar to the power-set construction to execute an NFA deterministically. Please also look this concept up on YouTube if unfamiliar. Therefore we're holding all possible states that our machine can currently be in, which is part of the power set of all states. In our case we're extending this to a dictionary because we want to know how often we are in each state, as this corresponds to the number of possible \"spring arrangements\" in the end.\n",
    "\n",
    "As we read each character of our input string `.??..?##?` we perform all possible transitions from each state that we're currently in.\n",
    "\n",
    "In this example we're starting of with `.`, so our `states_dict` remains `{0: 1}`, because from the starting state there is only one transition with a dot, leading back to itself.\n",
    "\n",
    "Our 2nd char however, the `?`, allows us to be either state 0 or 1, so our dict will look like this: `{0: 1, 1: 1}`. (State numbers are annotated in the bottom left corner of each box in the immage, they correspond to the string character index.)\n",
    "\n",
    "On the 3rd char we read another `?`, so \n",
    "from state 0 we can transition to 0 and 1 again, \n",
    "from state 1 we have to transition to state 2,\n",
    "so our state dict looks like this now: `{0: 1, 1: 1, 2: 1}`\n",
    "\n",
    "On the 4th char it starts to get interesting: We read another dot, which means \n",
    "from state 0 we can only transition into 0, \n",
    "from state 1 into 2,\n",
    "from state 2 into 2 as well.\n",
    "We're adding all of these up, so now we're in state 0 once, and in state 2 twice: `{0: 1, 2: 2}`\n",
    "\n",
    "After running the entire string our dictionary will look like this:\n",
    "`{5: 2, 6: 2}`\n",
    "Therefore we happened to end up on the last `#` state twice (`.#....###`,  `..#...###`) and we read one (or in theory also more) dot(s) afterwards (`.#...###.`, `..#..###.`,).\n",
    "This adds up to 4 configurations, which is exactly what we were looking for.\n",
    "\n",
    "Let's now get into the code:\n"
   ],
   "metadata": {
    "collapsed": false
   },
   "id": "47585c1e8e1213ae"
  },
  {
   "cell_type": "code",
   "execution_count": 3,
   "outputs": [
    {
     "name": "stdout",
     "output_type": "stream",
     "text": [
      "{0: 1}\n",
      "{1: 1, 0: 1}\n",
      "{2: 1, 1: 1, 0: 1}\n",
      "{2: 2, 0: 1}\n",
      "{2: 2, 0: 1}\n",
      "{3: 2, 2: 2, 1: 1, 0: 1}\n",
      "{4: 2, 3: 2, 1: 1}\n",
      "{5: 2, 4: 2}\n",
      "{6: 2, 5: 2}\n"
     ]
    }
   ],
   "source": [
    "text = \".??..?##?\"\n",
    "new_dict = {}\n",
    "for char in text:\n",
    "    for state in states_dict:\n",
    "        if char == \"?\":\n",
    "            if state + 1 < len(states):\n",
    "                new_dict[state + 1] = new_dict.get(state + 1, 0) + states_dict[state]\n",
    "            if states[state] == \".\":\n",
    "                new_dict[state] = new_dict.get(state, 0) + states_dict[state]\n",
    "\n",
    "        elif char == \".\":\n",
    "            if state + 1 < len(states) and states[state + 1] == \".\":\n",
    "                new_dict[state + 1] = new_dict.get(state + 1, 0) + states_dict[state]\n",
    "            if states[state] == \".\":\n",
    "                new_dict[state] = new_dict.get(state, 0) + states_dict[state]\n",
    "\n",
    "        elif char == \"#\":\n",
    "            if state + 1 < len(states) and states[state + 1] == \"#\":\n",
    "                new_dict[state + 1] = new_dict.get(state + 1, 0) + states_dict[state]\n",
    "\n",
    "    states_dict = new_dict\n",
    "    new_dict = {}\n",
    "    print(states_dict)"
   ],
   "metadata": {
    "collapsed": false,
    "ExecuteTime": {
     "end_time": "2023-12-15T14:00:21.463001700Z",
     "start_time": "2023-12-15T14:00:21.447377100Z"
    }
   },
   "id": "ac6e443c967df07e"
  },
  {
   "cell_type": "markdown",
   "source": [
    "As you can see, I implemented every transition between states depending on the character that we read in lines 5-19.\n",
    "This snipped does exactly what we just did manually by simulating the automaton as `states` string and the currently held states as `states_dict`.\n",
    "In the end all we need to do is add up our configurations for the last 2 (final/terminating states) and return the result:"
   ],
   "metadata": {
    "collapsed": false
   },
   "id": "c5ae17b9d1d9741f"
  },
  {
   "cell_type": "markdown",
   "source": [],
   "metadata": {
    "collapsed": false
   },
   "id": "e9c3e6c03c29fcf4"
  },
  {
   "cell_type": "code",
   "execution_count": 4,
   "outputs": [
    {
     "name": "stdout",
     "output_type": "stream",
     "text": [
      "4\n"
     ]
    }
   ],
   "source": [
    "print(states_dict.get(len(states) - 1, 0) + states_dict.get(len(states) - 2, 0))"
   ],
   "metadata": {
    "collapsed": false,
    "ExecuteTime": {
     "end_time": "2023-12-15T14:00:21.478628Z",
     "start_time": "2023-12-15T14:00:21.463001700Z"
    }
   },
   "id": "8a9ca6464ce7c77c"
  }
 ],
 "metadata": {
  "kernelspec": {
   "display_name": "Python 3",
   "language": "python",
   "name": "python3"
  },
  "language_info": {
   "codemirror_mode": {
    "name": "ipython",
    "version": 2
   },
   "file_extension": ".py",
   "mimetype": "text/x-python",
   "name": "python",
   "nbconvert_exporter": "python",
   "pygments_lexer": "ipython2",
   "version": "2.7.6"
  }
 },
 "nbformat": 4,
 "nbformat_minor": 5
}
